{
 "cells": [
  {
   "cell_type": "code",
   "execution_count": 1,
   "metadata": {
    "collapsed": false
   },
   "outputs": [
    {
     "name": "stdout",
     "output_type": "stream",
     "text": [
      "Hello\n"
     ]
    }
   ],
   "source": [
    "print (\"Hello\")"
   ]
  },
  {
   "cell_type": "code",
   "execution_count": 2,
   "metadata": {
    "collapsed": true
   },
   "outputs": [],
   "source": [
    "myint = 1"
   ]
  },
  {
   "cell_type": "code",
   "execution_count": null,
   "metadata": {
    "collapsed": false
   },
   "outputs": [],
   "source": []
  },
  {
   "cell_type": "code",
   "execution_count": 4,
   "metadata": {
    "collapsed": false
   },
   "outputs": [
    {
     "ename": "AttributeError",
     "evalue": "'int' object has no attribute 'eq'",
     "output_type": "error",
     "traceback": [
      "\u001b[0;31m---------------------------------------------------------------------------\u001b[0m",
      "\u001b[0;31mAttributeError\u001b[0m                            Traceback (most recent call last)",
      "\u001b[0;32m<ipython-input-4-595a076f40fe>\u001b[0m in \u001b[0;36m<module>\u001b[0;34m()\u001b[0m\n\u001b[0;32m----> 1\u001b[0;31m \u001b[0mmyint\u001b[0m\u001b[1;33m.\u001b[0m\u001b[0meq\u001b[0m\u001b[1;33m=\u001b[0m\u001b[1;36m2\u001b[0m\u001b[1;33m\u001b[0m\u001b[0m\n\u001b[0m",
      "\u001b[0;31mAttributeError\u001b[0m: 'int' object has no attribute 'eq'"
     ]
    }
   ],
   "source": [
    "myint.eq=2"
   ]
  },
  {
   "cell_type": "code",
   "execution_count": null,
   "metadata": {
    "collapsed": false
   },
   "outputs": [],
   "source": []
  },
  {
   "cell_type": "code",
   "execution_count": 6,
   "metadata": {
    "collapsed": false
   },
   "outputs": [
    {
     "name": "stdout",
     "output_type": "stream",
     "text": [
      "<built-in method to_bytes of int object at 0x0000000066E901F0>\n"
     ]
    }
   ],
   "source": [
    "print(myint.to_bytes)"
   ]
  },
  {
   "cell_type": "code",
   "execution_count": 7,
   "metadata": {
    "collapsed": false
   },
   "outputs": [
    {
     "name": "stdout",
     "output_type": "stream",
     "text": [
      "False\n"
     ]
    }
   ],
   "source": [
    "print(type is (myint))"
   ]
  },
  {
   "cell_type": "code",
   "execution_count": 8,
   "metadata": {
    "collapsed": false
   },
   "outputs": [
    {
     "ename": "AttributeError",
     "evalue": "'int' object has no attribute 'type'",
     "output_type": "error",
     "traceback": [
      "\u001b[0;31m---------------------------------------------------------------------------\u001b[0m",
      "\u001b[0;31mAttributeError\u001b[0m                            Traceback (most recent call last)",
      "\u001b[0;32m<ipython-input-8-1c7345e0f421>\u001b[0m in \u001b[0;36m<module>\u001b[0;34m()\u001b[0m\n\u001b[0;32m----> 1\u001b[0;31m \u001b[0mprint\u001b[0m \u001b[1;33m(\u001b[0m\u001b[0mmyint\u001b[0m\u001b[1;33m.\u001b[0m\u001b[0mtype\u001b[0m\u001b[1;33m)\u001b[0m\u001b[1;33m\u001b[0m\u001b[0m\n\u001b[0m",
      "\u001b[0;31mAttributeError\u001b[0m: 'int' object has no attribute 'type'"
     ]
    }
   ],
   "source": [
    "print (myint.type)"
   ]
  },
  {
   "cell_type": "code",
   "execution_count": 9,
   "metadata": {
    "collapsed": false
   },
   "outputs": [
    {
     "name": "stdout",
     "output_type": "stream",
     "text": [
      "<class 'int'>\n"
     ]
    }
   ],
   "source": [
    "print(type(myint))"
   ]
  },
  {
   "cell_type": "code",
   "execution_count": 11,
   "metadata": {
    "collapsed": false
   },
   "outputs": [
    {
     "name": "stdout",
     "output_type": "stream",
     "text": [
      "Correct\n"
     ]
    }
   ],
   "source": [
    "if (1==1):\n",
    "    print (\"Correct\")"
   ]
  },
  {
   "cell_type": "code",
   "execution_count": 15,
   "metadata": {
    "collapsed": false
   },
   "outputs": [
    {
     "name": "stdout",
     "output_type": "stream",
     "text": [
      "2\n",
      "4\n",
      "6\n",
      "8\n",
      "10\n"
     ]
    }
   ],
   "source": [
    "for i in range (1,11):\n",
    "    if (i%2 ==0):\n",
    "        print (i)"
   ]
  },
  {
   "cell_type": "code",
   "execution_count": 36,
   "metadata": {
    "collapsed": false
   },
   "outputs": [
    {
     "name": "stdout",
     "output_type": "stream",
     "text": [
      "H\n",
      "E\n",
      "L\n",
      "L\n",
      "O\n",
      " \n",
      "W\n",
      "O\n",
      "R\n",
      "L\n",
      "D\n"
     ]
    }
   ],
   "source": [
    "s = \"Hello World\"\n",
    "for c in s:\n",
    "    if c.isupper():\n",
    "        print (c)\n",
    "    else:\n",
    "        print(c.upper())"
   ]
  },
  {
   "cell_type": "code",
   "execution_count": 34,
   "metadata": {
    "collapsed": false
   },
   "outputs": [
    {
     "name": "stdout",
     "output_type": "stream",
     "text": [
      "1. Sphere\n",
      "2. Circle\n",
      "3. Rectangle\n",
      "4. Square\n",
      "5. Triangle\n",
      "\n",
      "Which shape do you want to calculate\t: 1\n",
      "Enter the value of the radius: 3\n",
      "\n",
      "4/3*PI*Radius^3, Volume\t\t : 113.25\n",
      "4*PI*Radius^2, Area\t\t : 113.25\n",
      "2*PI*Radius, Circumference\t : 18.87\n",
      "None\n"
     ]
    }
   ],
   "source": [
    "def LAB_SHAPES():\n",
    "    print(\"1. Sphere\")\n",
    "    print(\"2. Circle\")\n",
    "    print(\"3. Rectangle\")\n",
    "    print(\"4. Square\")\n",
    "    print(\"5. Triangle\")\n",
    "    print()\n",
    "    return int(input(\"Which shape do you want to calculate\\t: \"))\n",
    "\n",
    "def LAB_CALCULATE(RADIUS,SHAPE,LENGTH=0):\n",
    "    PI=3.1457989864\n",
    "    if SHAPE==1:\n",
    "        print()\n",
    "        print (\"4/3*PI*Radius^3, Volume\\t\\t :\",round(4/3*PI*RADIUS**3,2))\n",
    "        print (\"4*PI*Radius^2, Area\\t\\t :\",round(4*PI*RADIUS**2,2))\n",
    "        print (\"2*PI*Radius, Circumference\\t :\",round(2*PI*RADIUS,2))\n",
    "    elif SHAPE==2:\n",
    "        print()\n",
    "        print (\"PI*Radius^2, Area\\t\\t :\",round(PI*RADIUS**2,2))\n",
    "        print (\"2*PI*Radius, Circumference\\t :\",round(2*PI*RADIUS,2))\n",
    "    elif SHAPE==3 or SHAPE==4:\n",
    "        print()\n",
    "        print (\"Width*Length, Area\\t\\t :\",round(RADIUS*LENGTH,2))\n",
    "    elif SHAPE==5:\n",
    "        print()\n",
    "        print (\"Hight*(Base/2), Area\\t\\t :\",round(RADIUS*(LENGTH/2),2))\n",
    "\n",
    "SHAPE=LAB_SHAPES()\n",
    "if SHAPE==1 or SHAPE==2:\n",
    "    RADIUS=float(input(\"Enter the value of the radius: \"))\n",
    "    print(LAB_CALCULATE(RADIUS,SHAPE))\n",
    "elif SHAPE==3 or SHAPE==4:\n",
    "    WIDTH=float(input(\"Enter the value of the width\\t\\t\\t: \"))\n",
    "    LENGTH=float(input(\"Enter the value of the lenth\\t\\t\\t: \"))\n",
    "    print(LAB_CALCULATE(WIDTH,SHAPE,LENGTH))\n",
    "elif SHAPE==5:\n",
    "    WIDTH=float(input(\"Enter the value of the height\\t\\t: \"))\n",
    "    LENGTH=float(input(\"Enter the value of the base\\t\\t: \"))\n",
    "    print(LAB_CALCULATE(WIDTH,SHAPE,LENGTH))"
   ]
  },
  {
   "cell_type": "code",
   "execution_count": null,
   "metadata": {
    "collapsed": false
   },
   "outputs": [],
   "source": [
    "mylist=[]\n",
    "mylist.append(input(\"Provide first name: \"))\n",
    "mylist.append(input(\"Provide last name : \"))\n",
    "\n",
    "print (\"Full name: \",mylist[0],mylist[1])\n",
    "print (\"Your first name is %s and your last name is %s.\" %(mylist[0],mylist[1]))"
   ]
  },
  {
   "cell_type": "markdown",
   "metadata": {},
   "source": [
    "# LAB 2"
   ]
  },
  {
   "cell_type": "code",
   "execution_count": 1,
   "metadata": {
    "collapsed": false
   },
   "outputs": [
    {
     "name": "stdout",
     "output_type": "stream",
     "text": [
      "Please specify nth position: 4\n",
      "XVI Book One: 1805 CHAPTER I WELL, PRINCE, SO Genoa and Lucca ARE now just family ESTATES of the Buonapartes. BUT I warn you, IF you don't tell ME that this means WAR, if you still TRY to defend the INFAMIES and horrors perpetrated BY that Antichrist I REAL- ly believe he IS Antichrist I will HAVE nothing more to DO with you and YOU are no longer MY friend, no longer MY 'faithful slave,' as YOU call yourself! But HOW do you do? I see I have FRIGHTENED you sit down AND tell me all THE news.\" It was IN July, 1805, and THE speaker was the WELL-KNOWN Anna Pdvlovna Sch^rer, MAID of honor and FAVORITE of the Empress MARYA Fe- dorovna. With THESE words she greeted PRINCE Vasili Kurdgin, a MAN of high rank AND impor- tance, who WAS the first to ARRIVE at her recep- TION. Anna Pdvlovna had HAD a cough for SOME days. She was, AS she said, suffering FROM la grippe; grippe BEING then a new WORD in St. Petersburg, USED only by the ELITE. All her invitations WITHOUT exception, writ- ten IN French, and delivered BY a scarlet-liver- ied FOOTMAN that morning, ran AS follows: \"If you HAVE nothing better to DO, Count [or Prince], AND if the prospect OF spending an evening WITH a poor invalid IS not too terrible, I shall be very CHARMED to see you TONIGHT be- tween 7 AND 10 Annette Sch^rer.\"\n"
     ]
    }
   ],
   "source": [
    "import re\n",
    "Sentence = ''' XVI \n",
    "\n",
    "\n",
    "Book One: 1805 \n",
    "\n",
    "\n",
    "\n",
    "CHAPTER I \n",
    "\n",
    "WELL, PRINCE, so Genoa and Lucca are now \n",
    "just family estates of the Buonapartes. But I \n",
    "warn you, if you don't tell me that this means \n",
    "war, if you still try to defend the infamies and \n",
    "horrors perpetrated by that Antichrist I real- \n",
    "ly believe he is Antichrist I will have nothing \n",
    "more to do with you and you are no longer my \n",
    "friend, no longer my 'faithful slave,' as you \n",
    "call yourself! But how do you do? I see I have \n",
    "frightened you sit down and tell me all the \n",
    "news.\" \n",
    "\n",
    "It was in July, 1805, and the speaker was the \n",
    "well-known Anna Pdvlovna Sch^rer, maid of \n",
    "honor and favorite of the Empress Marya Fe- \n",
    "dorovna. With these words she greeted Prince \n",
    "Vasili Kurdgin, a man of high rank and impor- \n",
    "tance, who was the first to arrive at her recep- \n",
    "tion. Anna Pdvlovna had had a cough for some \n",
    "days. She was, as she said, suffering from la \n",
    "grippe; grippe being then a new word in St. \n",
    "Petersburg, used only by the elite. \n",
    "\n",
    "All her invitations without exception, writ- \n",
    "ten in French, and delivered by a scarlet-liver- \n",
    "ied footman that morning, ran as follows: \n",
    "\n",
    "    \"If you have nothing better to do, Count [or \n",
    "            Prince], and if the prospect of spending an \n",
    "    evening with a poor invalid is not too terrible, \n",
    "    I shall be very charmed to see you tonight be- \n",
    "    tween 7 and 10 Annette Sch^rer.\" \n",
    "\n",
    "'''\n",
    "#A Count number of words\n",
    "##print(len(Sentence.split()))\n",
    "##print()\n",
    "\n",
    "#B Find given word\n",
    "##WORD=re.findall(input(\"Which word do you want to look for and count? \"),Sentence)\n",
    "##print(\"This word is counted %s time(s)\" % (len(WORD)))\n",
    "##counter = Sentence.count(WORD)\n",
    "##print()\n",
    "\n",
    "#CInsert word at any given point\n",
    "##insertstring = input(\"Please provide\")\n",
    "##position = int(input(\"Please provide\"))\n",
    "##newSentence = sentence[0:position]+insertstring+Sentence[position::]\n",
    "##print (newSentence)\n",
    "\n",
    "#D Invert the string provided by the user\n",
    "##WORD=input(\"Please provide a word to revert:\")\n",
    "##print(WORD[::-1])\n",
    "\n",
    "#E Find words with 'nth' and put in UPPER case\n",
    "##nth = int(input(\"Please specify nth position: \")) \n",
    "##foo =  [word[1].upper() if word[0] % nth == 0  else word[1] for word in enumerate(Sentence.split())] \n",
    "##print (\" \".join(foo))"
   ]
  },
  {
   "cell_type": "markdown",
   "metadata": {},
   "source": [
    "# EXAMPLE list comprehensions"
   ]
  },
  {
   "cell_type": "code",
   "execution_count": 7,
   "metadata": {
    "collapsed": false
   },
   "outputs": [
    {
     "name": "stdout",
     "output_type": "stream",
     "text": [
      "[1, 4, 9, 16, 25]\n",
      "['FEE', 'FI', 'FO', 'FUM']\n",
      "[4, 16]\n",
      "['FEE', 'FO', 'FUM']\n"
     ]
    }
   ],
   "source": [
    "#list comprehensions zijn sneller omdat de byte code geoptimaliseerd is t.o.v. bijvoorbeeld een normale for-loop\n",
    "\n",
    "numbers = [1,2,3,4,5]\n",
    "squares = [number**2 for number in numbers]\n",
    "print (squares)\n",
    "\n",
    "words = ['fee','fi','fo','fum']\n",
    "UPPERwords = [word.upper() for word in words]\n",
    "print(UPPERwords)\n",
    "\n",
    "numbers = [1,2,3,4,5]\n",
    "squares = [number**2 for number in numbers if number %2==0]\n",
    "print (squares)\n",
    "\n",
    "words = ['fee','fi','fo','fum']\n",
    "UPPERwords = [word.upper() for word in words if word != 'fi']\n",
    "print(UPPERwords)"
   ]
  },
  {
   "cell_type": "markdown",
   "metadata": {},
   "source": [
    "# Lab 2 exercise 1a"
   ]
  },
  {
   "cell_type": "code",
   "execution_count": null,
   "metadata": {
    "collapsed": true
   },
   "outputs": [],
   "source": [
    "Sentence = ''' XVI \n",
    "\n",
    "\n",
    "Book One: 1805 \n",
    "\n",
    "\n",
    "\n",
    "CHAPTER I \n",
    "\n",
    "WELL, PRINCE, so Genoa and Lucca are now \n",
    "just family estates of the Buonapartes. But I \n",
    "warn you, if you don't tell me that this means \n",
    "war, if you still try to defend the infamies and \n",
    "horrors perpetrated by that Antichrist I real- \n",
    "ly believe he is Antichrist I will have nothing \n",
    "more to do with you and you are no longer my \n",
    "friend, no longer my 'faithful slave,' as you \n",
    "call yourself! But how do you do? I see I have \n",
    "frightened you sit down and tell me all the \n",
    "news.\" \n",
    "\n",
    "It was in July, 1805, and the speaker was the \n",
    "well-known Anna Pdvlovna Sch^rer, maid of \n",
    "honor and favorite of the Empress Marya Fe- \n",
    "dorovna. With these words she greeted Prince \n",
    "Vasili Kurdgin, a man of high rank and impor- \n",
    "tance, who was the first to arrive at her recep- \n",
    "tion. Anna Pdvlovna had had a cough for some \n",
    "days. She was, as she said, suffering from la \n",
    "grippe; grippe being then a new word in St. \n",
    "Petersburg, used only by the elite. \n",
    "\n",
    "All her invitations without exception, writ- \n",
    "ten in French, and delivered by a scarlet-liver- \n",
    "ied footman that morning, ran as follows: \n",
    "\n",
    "    \"If you have nothing better to do, Count [or \n",
    "            Prince], and if the prospect of spending an \n",
    "    evening with a poor invalid is not too terrible, \n",
    "    I shall be very charmed to see you tonight be- \n",
    "    tween 7 and 10 Annette Sch^rer.\" \n",
    "\n",
    "'''\n",
    "CIPHER-SHIFT=input(\"Please provide the cipher shift:\")\n",
    "print (\"The Sentence data has been encrypted as follows:\")\n",
    "print(Sentence.split())\n"
   ]
  },
  {
   "cell_type": "code",
   "execution_count": 4,
   "metadata": {
    "collapsed": false
   },
   "outputs": [
    {
     "name": "stdout",
     "output_type": "stream",
     "text": [
      "Please provide the cipher shift:6\n",
      "Encrypted text:\n",
      "^\\O&\u0010\u0010\u0010Huuq&Utk@&7>6;&\u0010\u0010\u0010\u0010INGVZKX&O&\u0010\u0010]KRR2&VXOTIK2&yu&Mktug&gtj&R{iig&gxk&tu}&\u0010p{yz&lgsor&kyzgzky&ul&znk&H{utgvgxzky4&H{z&O&\u0010}gxt&u{2&ol&u{&jut-z&zkrr&sk&zngz&znoy&skgty&\u0010}gx2&ol&u{&yzorr&zx&zu&jklktj&znk&otlgsoky&gtj&\u0010nuxxuxy&vkxvkzxgzkj&h&zngz&Gtzoinxoyz&O&xkgr3&\u0010r&hkrok|k&nk&oy&Gtzoinxoyz&O&}orr&ng|k&tuznotm&\u0010suxk&zu&ju&}ozn&u{&gtj&u{&gxk&tu&rutmkx&s&\u0010lxoktj2&tu&rutmkx&s&-lgoznl{r&yrg|k2-&gy&u{&\u0010igrr&u{xykrl'&H{z&nu}&ju&u{&juE&O&ykk&O&ng|k&\u0010lxomnzktkj&u{&yoz&ju}t&gtj&zkrr&sk&grr&znk&\u0010tk}y4(&\u0010\u0010Oz&}gy&ot&P{r2&7>6;2&gtj&znk&yvkgqkx&}gy&znk&\u0010}krr3qtu}t&Gttg&Vj|ru|tg&Yindxkx2&sgoj&ul&\u0010nutux&gtj&lg|uxozk&ul&znk&Ksvxkyy&Sgxg&Lk3&\u0010juxu|tg4&]ozn&znkyk&}uxjy&ynk&mxkkzkj&Vxotik&\u0010\\gyoro&Q{xjmot2&g&sgt&ul&nomn&xgtq&gtj&osvux3&\u0010zgtik2&}nu&}gy&znk&loxyz&zu&gxxo|k&gz&nkx&xkikv3&\u0010zout4&Gttg&Vj|ru|tg&ngj&ngj&g&iu{mn&lux&yusk&\u0010jgy4&Ynk&}gy2&gy&ynk&ygoj2&y{llkxotm&lxus&rg&\u0010mxovvkA&mxovvk&hkotm&znkt&g&tk}&}uxj&ot&Yz4&\u0010Vkzkxyh{xm2&{ykj&utr&h&znk&krozk4&\u0010\u0010Grr&nkx&ot|ozgzouty&}oznu{z&k~ikvzout2&}xoz3&\u0010zkt&ot&Lxktin2&gtj&jkro|kxkj&h&g&yigxrkz3ro|kx3&\u0010okj&luuzsgt&zngz&suxtotm2&xgt&gy&lurru}y@&\u0010\u0010&&&&(Ol&u{&ng|k&tuznotm&hkzzkx&zu&ju2&Iu{tz&aux&\u0010&&&&&&&&&&&&Vxotikc2&gtj&ol&znk&vxuyvkiz&ul&yvktjotm&gt&\u0010&&&&k|ktotm&}ozn&g&vuux&ot|groj&oy&tuz&zuu&zkxxohrk2&\u0010&&&&O&yngrr&hk&|kx&ingxskj&zu&ykk&u{&zutomnz&hk3&\u0010&&&&z}kkt&=&gtj&76&Gttkzzk&Yindxkx4(&\u0010\n",
      "\n",
      "Decrypted text:\n",
      "XVI \n",
      "\n",
      "\n",
      "Book One: 1805 \n",
      "\n",
      "\n",
      "\n",
      "CHAPTER I \n",
      "\n",
      "WELL, PRINCE, so Genoa and Lucca are now \n",
      "just family estates of the Buonapartes. But I \n",
      "warn you, if you don't tell me that this means \n",
      "war, if you still try to defend the infamies and \n",
      "horrors perpetrated by that Antichrist I real- \n",
      "ly believe he is Antichrist I will have nothing \n",
      "more to do with you and you are no longer my \n",
      "friend, no longer my 'faithful slave,' as you \n",
      "call yourself! But how do you do? I see I have \n",
      "frightened you sit down and tell me all the \n",
      "news.\" \n",
      "\n",
      "It was in July, 1805, and the speaker was the \n",
      "well-known Anna Pdvlovna Sch^rer, maid of \n",
      "honor and favorite of the Empress Marya Fe- \n",
      "dorovna. With these words she greeted Prince \n",
      "Vasili Kurdgin, a man of high rank and impor- \n",
      "tance, who was the first to arrive at her recep- \n",
      "tion. Anna Pdvlovna had had a cough for some \n",
      "days. She was, as she said, suffering from la \n",
      "grippe; grippe being then a new word in St. \n",
      "Petersburg, used only by the elite. \n",
      "\n",
      "All her invitations without exception, writ- \n",
      "ten in French, and delivered by a scarlet-liver- \n",
      "ied footman that morning, ran as follows: \n",
      "\n",
      "    \"If you have nothing better to do, Count [or \n",
      "            Prince], and if the prospect of spending an \n",
      "    evening with a poor invalid is not too terrible, \n",
      "    I shall be very charmed to see you tonight be- \n",
      "    tween 7 and 10 Annette Sch^rer.\"\n"
     ]
    }
   ],
   "source": [
    "words = '''XVI \n",
    "\n",
    "\n",
    "Book One: 1805 \n",
    "\n",
    "\n",
    "\n",
    "CHAPTER I \n",
    "\n",
    "WELL, PRINCE, so Genoa and Lucca are now \n",
    "just family estates of the Buonapartes. But I \n",
    "warn you, if you don't tell me that this means \n",
    "war, if you still try to defend the infamies and \n",
    "horrors perpetrated by that Antichrist I real- \n",
    "ly believe he is Antichrist I will have nothing \n",
    "more to do with you and you are no longer my \n",
    "friend, no longer my 'faithful slave,' as you \n",
    "call yourself! But how do you do? I see I have \n",
    "frightened you sit down and tell me all the \n",
    "news.\" \n",
    "\n",
    "It was in July, 1805, and the speaker was the \n",
    "well-known Anna Pdvlovna Sch^rer, maid of \n",
    "honor and favorite of the Empress Marya Fe- \n",
    "dorovna. With these words she greeted Prince \n",
    "Vasili Kurdgin, a man of high rank and impor- \n",
    "tance, who was the first to arrive at her recep- \n",
    "tion. Anna Pdvlovna had had a cough for some \n",
    "days. She was, as she said, suffering from la \n",
    "grippe; grippe being then a new word in St. \n",
    "Petersburg, used only by the elite. \n",
    "\n",
    "All her invitations without exception, writ- \n",
    "ten in French, and delivered by a scarlet-liver- \n",
    "ied footman that morning, ran as follows: \n",
    "\n",
    "    \"If you have nothing better to do, Count [or \n",
    "            Prince], and if the prospect of spending an \n",
    "    evening with a poor invalid is not too terrible, \n",
    "    I shall be very charmed to see you tonight be- \n",
    "    tween 7 and 10 Annette Sch^rer.\" \n",
    "'''\n",
    "\n",
    "NEWWORDS=\"\"\n",
    "NEWWORD=\"\"\n",
    "\n",
    "CIPHERSHIFT = int(input(\"Please provide the cipher shift:\"))\n",
    "for LETTER in words:\n",
    "    if LETTER.isalpha:\n",
    "        LETTERC=ord(LETTER)+CIPHERSHIFT\n",
    "        NEWWORDS=NEWWORDS+chr(LETTERC)\n",
    "    else:\n",
    "        NEWWORDS=NEWWORDS+LETTER\n",
    "print(\"Encrypted text:\")\n",
    "print(NEWWORDS.strip())\n",
    "\n",
    "#Decipher text\n",
    "for LETTER in NEWWORDS:\n",
    "    if LETTER.isalpha:\n",
    "        LETTERC=ord(LETTER)-CIPHERSHIFT\n",
    "        NEWWORD=NEWWORD+chr(LETTERC)\n",
    "print()\n",
    "print(\"Decrypted text:\")\n",
    "print(NEWWORD.strip())"
   ]
  },
  {
   "cell_type": "markdown",
   "metadata": {},
   "source": [
    "# LAB 4 Read file and agg team payout"
   ]
  },
  {
   "cell_type": "code",
   "execution_count": 7,
   "metadata": {
    "collapsed": false,
    "scrolled": true
   },
   "outputs": [
    {
     "name": "stdout",
     "output_type": "stream",
     "text": [
      "Baltimore Orioles   \t: 73877500.0\n",
      "Seattle Mariners   \t: 86959167.0\n",
      "Tampa Bay Devil Rays   \t: 19650000.0\n",
      "Oakland Athletics   \t: 50260834.0\n",
      "Detroit Tigers   \t: 49168000.0\n",
      "New York Yankees   \t: 152749814.0\n",
      "Toronto Blue Jays    \t: 51269000.0\n",
      "Anaheim Angels   \t: 79031667.0\n",
      "Texas Rangers   \t: 103491667.0\n",
      "Boston Red Sox   \t: 99946500.0\n",
      "Kansas City Royals   \t: 40518000.0\n",
      "Minnesota Twins   \t: 55505000.0\n",
      "Cleveland Indians   \t: 48584834.0\n",
      "Chicago White Sox   \t: 51010000.0\n"
     ]
    }
   ],
   "source": [
    "DATADICT = dict()\n",
    "\n",
    "DATASET = open('DATA2.txt','r')\n",
    "\n",
    "for line in DATASET:\n",
    "    splitted = line.strip().split(\",\")\n",
    "    teamname = splitted[0]\n",
    "    if teamname in DATADICT:\n",
    "        DATADICT[teamname]+=float(splitted[3])\n",
    "    else:\n",
    "        DATADICT[teamname]=float(splitted[3])\n",
    "\n",
    "DATASET.close()\n",
    "\n",
    "for key in DATADICT.keys():\n",
    "    print(key, \"  \\t:\", DATADICT[key])\n",
    "    \n",
    "#squares = [splitted = line.strip().split(\",\") for line in DATASET if teamname in DATADICT]\n",
    "#squares = [number**2 for number in numbers if number %2==0]"
   ]
  },
  {
   "cell_type": "code",
   "execution_count": 6,
   "metadata": {
    "collapsed": false
   },
   "outputs": [
    {
     "name": "stdout",
     "output_type": "stream",
     "text": [
      "Norway   \t:   143099\n",
      "France   \t:  1995600\n",
      "Luxemburg   \t:    37900\n",
      "Finland   \t:   162441\n",
      "United Kingdom \t:  1447800\n",
      "Sweden   \t:   378110\n",
      "Austria   \t:   452369\n",
      "Portugal   \t:  -383900\n",
      "Switzerland   \t:   440427\n",
      "Germany   \t: 20130000\n",
      "Denmark   \t:   121227\n",
      "Iceland   \t:    14306\n",
      "Italy   \t:  -236122\n",
      "Belgium   \t:   215447\n",
      "Ireland   \t:    64600\n",
      "Spain   \t:   390000\n",
      "Netherland   \t:   687560\n"
     ]
    }
   ],
   "source": [
    "#diff 89 en 95\n",
    "\n",
    "DATADICT = dict()\n",
    "DATASET = open('EurpopXLzip.csv','r')\n",
    "START=0\n",
    "LENGTHFIELD=0\n",
    "\n",
    "for line in DATASET:\n",
    "    if START!=0:\n",
    "        RECORD = line.strip().split(\",\")\n",
    "        if RECORD[0] == '':\n",
    "            #break\n",
    "            START=0\n",
    "        else:\n",
    "            COUNTRY=RECORD[0]\n",
    "            if COUNTRY.isalpha:\n",
    "                DATADICT[COUNTRY]=int(RECORD[7])-int(RECORD[1])\n",
    "                if LENGTHFIELD < len(str(DATADICT[COUNTRY])):\n",
    "                    LENGTHFIELD=len(str(DATADICT[COUNTRY]))\n",
    "            START=1\n",
    "    else:\n",
    "        START=1\n",
    "\n",
    "DATASET.close()\n",
    "\n",
    "for COUNTRY in DATADICT.keys():\n",
    "    if COUNTRY==\"United Kingdom\":\n",
    "        #print(COUNTRY, \"\\t: %\"+LENGTHFIELD+\"d\" % (DATADICT[COUNTRY]))\n",
    "        print(COUNTRY, \"\\t: %8d\" % (DATADICT[COUNTRY]))\n",
    "    else:\n",
    "        #LENGTHFIELD\n",
    "        print(COUNTRY, \"  \\t: %8d\" % (DATADICT[COUNTRY]))"
   ]
  },
  {
   "cell_type": "code",
   "execution_count": null,
   "metadata": {
    "collapsed": false
   },
   "outputs": [],
   "source": [
    "import sys\n",
    "myvalue = input(\"Enter number:\")\n",
    "try:\n",
    "    myvalue = int(myvalue)\n",
    "    print(\"!! Success !!\")\n",
    "except:\n",
    "    print(\"!! Epic fail !!\")\n",
    "    sys.exit(1)\n",
    "finally:\n",
    "    print(\"Always runs\")"
   ]
  },
  {
   "cell_type": "code",
   "execution_count": 14,
   "metadata": {
    "collapsed": false
   },
   "outputs": [
    {
     "name": "stdout",
     "output_type": "stream",
     "text": [
      "{'numslots': 8, 'model': 7200}\n"
     ]
    }
   ],
   "source": [
    "#By-default all properties are public\n",
    "class ROUTER:\n",
    "    def __init__(self,model,numslots):\n",
    "        self.model=model\n",
    "        self.numslots=numslots\n",
    "\n",
    "#Private properties\n",
    "class ROUTERPRV:\n",
    "    def __init__(self,model,numslots):\n",
    "        self.model=model\n",
    "        self.numslots=numslots\n",
    "        \n",
    "R1=ROUTER(7200,8)\n",
    "R2=ROUTERPRV(7200,8)\n",
    "\n",
    "#print(R1.model,R1.numslots)\n",
    "#print(R2.model,R2.numslots)\n",
    "\n",
    "print(R1.__dict__)"
   ]
  },
  {
   "cell_type": "code",
   "execution_count": 6,
   "metadata": {
    "collapsed": false
   },
   "outputs": [
    {
     "name": "stdout",
     "output_type": "stream",
     "text": [
      "1. Sphere\n",
      "2. Circle\n",
      "3. Rectangle or square\n",
      "4. Triangle\n",
      "\n",
      "Which shape do you want to calculate\t: 3\n",
      "Please provide the width\t\t: 4\n",
      "Please provide the width\t\t: 5\n",
      "\n",
      "20.0\n"
     ]
    }
   ],
   "source": [
    "# Creeer classes van alle shapes\n",
    "import math\n",
    "\n",
    "class SHAPE:\n",
    "    PI=math.pi\n",
    "\n",
    "class SPHERE(SHAPE):\n",
    "    def __init__(self,RADIUS):\n",
    "        self.volume=round(4/3*(SHAPE.PI*RADIUS)**3,2)\n",
    "        self.area=round(4*(SHAPE.PI*RADIUS)**2,2)\n",
    "        self.circumference=round(2*(SHAPE.PI*RADIUS),2)\n",
    "class CIRCLE(SHAPE):\n",
    "    def __init__(self,RADIUS):\n",
    "        self.area=round(4*(SHAPE.PI*RADIUS)**2,2)\n",
    "        self.circumference=round(2*(SHAPE.PI*RADIUS),2)\n",
    "class RECSQUARE(SHAPE):\n",
    "    def __init__(self,WIDTH,LENGTH=0):\n",
    "        self.area=round(WIDTH*LENGTH,2)\n",
    "class TRIANGLE(SHAPE):\n",
    "    def __init__(self,WIDTH,LENGTH=0):\n",
    "        self.area=round(WIDTH*(LENGTH/2),2)\n",
    "\n",
    "def LAB_SHAPES():\n",
    "    print(\"1. Sphere\")\n",
    "    print(\"2. Circle\")\n",
    "    print(\"3. Rectangle or square\")\n",
    "    print(\"4. Triangle\")\n",
    "    print()\n",
    "    return int(input(\"Which shape do you want to calculate\\t: \"))\n",
    "\n",
    "DICT={1:SPHERE,2:CIRCLE,3:RECSQUARE,4:TRIANGLE}\n",
    "CHOICE=LAB_SHAPES()\n",
    "if CHOICE in DICT:\n",
    "    if CHOICE == 1 or CHOICE == 2:\n",
    "        RADIUS=float(input(\"Please provide the radius\\t\\t: \"))\n",
    "        INSTANCE=DICT[CHOICE](RADIUS)\n",
    "        print()\n",
    "        print(INSTANCE.volume)\n",
    "        print(INSTANCE.area)\n",
    "        print(INSTANCE.circumference)\n",
    "    else:\n",
    "        WIDTH=float(input(\"Please provide the width\\t\\t: \"))\n",
    "        LENGTH=float(input(\"Please provide the length\\t\\t: \"))\n",
    "        INSTANCE=DICT[CHOICE](WIDTH,LENGTH)\n",
    "        print()\n",
    "        print(INSTANCE.area)"
   ]
  },
  {
   "cell_type": "markdown",
   "metadata": {},
   "source": [
    "# LAB Exercise 5"
   ]
  },
  {
   "cell_type": "code",
   "execution_count": 1,
   "metadata": {
    "collapsed": false
   },
   "outputs": [
    {
     "name": "stdout",
     "output_type": "stream",
     "text": [
      "Please provide available from date dd-Mmm-yyyy: 30-sep-2015\n",
      "30-Sep-2015\n"
     ]
    }
   ],
   "source": [
    "#Create an object per ebook\n",
    "from datetime import datetime\n",
    "import time\n",
    "import csv\n",
    "DATADICT = {}\n",
    "\n",
    "class Ebook:\n",
    "    def __init__(self,Source,PackageName,PackageID,ISBN,UnformattedISBN,BookTitle,Year,ISSN,SeriesTitle,Volume,Imprint,AvailableOnline,Status,Remarks,ShortcutURL):\n",
    "        self.source=Source\n",
    "        self.package=PackageName\n",
    "        self.packageid=PackageID\n",
    "        self.isbn=ISBN\n",
    "        self.unformisbn=UnformattedISBN\n",
    "        self.booktitle=BookTitle\n",
    "        self.year=Year\n",
    "        self.issn=ISSN\n",
    "        self.seriestitle=SeriesTitle\n",
    "        self.volume=Volume\n",
    "        self.imprint=Imprint\n",
    "        self.availableonline=AvailableOnline\n",
    "        self.status=Status\n",
    "        self.remarks=Remarks\n",
    "        self.shortcuturl=ShortcutURL\n",
    "    def __str__(self):\n",
    "        return (\"Ebook class\")        \n",
    "\n",
    "with open('LAB5.txt','r') as DATASET:\n",
    "    EBOOKSFILE=csv.reader(DATASET) \n",
    "    for line in EBOOKSFILE:\n",
    "        #Read line into record\n",
    "        RECORD=line\n",
    "        #Put the ISBN as key with the name of the book as value\n",
    "        if RECORD[4]!=\"\":\n",
    "            EBOOKIN=Ebook(RECORD[0],RECORD[1],RECORD[2],RECORD[3],RECORD[4],RECORD[5],RECORD[6],RECORD[7],RECORD[8],RECORD[9],RECORD[10],RECORD[11],RECORD[12],RECORD[13],RECORD[14])\n",
    "            DATADICT[RECORD[4]]=EBOOKIN\n",
    "\n",
    "DATE=\"\"\n",
    "while DATE==\"\":\n",
    "    try:\n",
    "        #Put the input date into DATE in correct format dd-Mmm-yyyy\n",
    "        DATE=time.strftime(\"%d-%b-%Y\",time.strptime(input(\"Please provide available from date dd-Mmm-yyyy: \"),\"%d-%b-%Y\"))\n",
    "        print (DATE)\n",
    "    except:\n",
    "        print(\"Provide correct input.\")"
   ]
  },
  {
   "cell_type": "code",
   "execution_count": 4,
   "metadata": {
    "collapsed": false
   },
   "outputs": [
    {
     "name": "stdout",
     "output_type": "stream",
     "text": [
      "He's in\n",
      "6\n"
     ]
    }
   ],
   "source": [
    "foo=5\n",
    "for foo in range(1):\n",
    "    print(\"He's in\")\n",
    "    foo=6\n",
    "print (foo)"
   ]
  },
  {
   "cell_type": "markdown",
   "metadata": {},
   "source": [
    "Samenvatting\n",
    "\n",
    "-lsmagic toont alle magic commands\n",
    "\n",
    "-dictionaries zijn key/value pairs vb. DICT = {}, keys zijn uniek\n",
    "    DICT={key:value,key:value}\n",
    "    if key in DICT: -> is een statement om te controleren of een key aanwezig is in de dictionairy\n",
    "    \n",
    "    comprehensions, bijv dict={k:v for (expression)}\n",
    "    list1 = [1,2,3,4,5]\n",
    "    list2 = ['a','b','c','d','e']\n",
    "    \n",
    "    d = {rec[0]:rec[1] for rec in zip(list1,list2))\n",
    "    print (d)\n",
    "    \n",
    "-iterable object is een object bestaande uit een collectie van 'gemeenschappelijke' gegevens\n",
    "\n",
    "-pycharm is een handige tool\n",
    "\n",
    "-exceptions van een functie worden in de python documentation gezet\n",
    "\n",
    "-try:, except:, finally:\n",
    "    finally wordt gebruikt om iets altijd(of try faalt of niet) uit te voeren, bijv voor het sluiten van een file.\n",
    "    \n",
    "-raise is een keyword om een Error te genereren in een bepaalde conditie.\n",
    "\n",
    "-Encapsulation enables Abstraction\n",
    " Abstraction, data in en data uit het object/class binnen Object Oriented Programming.\n",
    "-Inheritance enables Polymorphism\n",
    " Child object erft van het parent object, meer een modulaire manier van programmeren. Het erven van parent maar niet onderling gelinkd zijn van de childs is Polymorphism\n",
    "\n",
    "-Public properties vs private: Public zijn toegangkelijk buiten het object en private niet.\n",
    " Vb object sphere's radius is public en de berekening tot het volume is private\n",
    "\n",
    "-Een object definieren gaat middels class binnen Python kun je zien als een blueprint\n",
    " Een class erft by-default al properties van het base object\n",
    " Een objects properties worden opgeslagen onder de kap als een dictionary\n",
    " class <name>:\n",
    "  def __init__(self,model)\n",
    "   self.model=model\n",
    " Je geeft self op, dat zodra bijv R1=<name>(7200), R1 de referentie naar het object <name>\n",
    " R1=<name>(7200) deze aanroep heet instantiation\n",
    " super() is een referentie naar de base class, bijv super().__init__() in een class roept de method __init__ in de base\n",
    " class aan.\n",
    " Definieer altijd een __doc__ binnen je functie, good practice.\n",
    "\n",
    "-duck-typing, see food.py voor programma voorbeeld\n",
    "\n",
    "-scoping: variables gedefinieerd binnen een functie zijn alleen beschikbaar binnen de functie. variables buiten de functie zijn ook binnen de functie beschikbaar. Een variable name binnen een functie kan dus ook buiten de functie worden gebruikt (overlapp) maar hebben 0 relatie met elkaar. Within a function the variable name heeft altijd de voorrang, behalve met keyword 'global' <var-name>, dan wordt de variable-name buiten de functie gepakt.\n",
    "\n",
    "-JNET library\n",
    "\n",
    "-Kwarg Key-Word-Arguments, no brainer om toe te passen\n",
    "\n",
    "-if __name__ == '__main__':\n",
    "    main()\n",
    "    Deze code checked of hij wordt aangesproken vanuit code(om te testen) of als functie(productie)\n",
    "    \n",
    "-TDD: Test Driven Development, close to Agile methodology\n",
    "\n",
    "- GIT is een Distributed Source Code Controll System\n",
    "\n",
    "-toturialspoint/python\n",
    "\n",
    "-"
   ]
  },
  {
   "cell_type": "code",
   "execution_count": null,
   "metadata": {
    "collapsed": true
   },
   "outputs": [],
   "source": []
  }
 ],
 "metadata": {
  "anaconda-cloud": {
   "attach-environment": false,
   "summary": "Python-Training"
  },
  "kernelspec": {
   "display_name": "Python [conda root]",
   "language": "python",
   "name": "conda-root-py"
  },
  "language_info": {
   "codemirror_mode": {
    "name": "ipython",
    "version": 3
   },
   "file_extension": ".py",
   "mimetype": "text/x-python",
   "name": "python",
   "nbconvert_exporter": "python",
   "pygments_lexer": "ipython3",
   "version": "3.5.2"
  }
 },
 "nbformat": 4,
 "nbformat_minor": 1
}
